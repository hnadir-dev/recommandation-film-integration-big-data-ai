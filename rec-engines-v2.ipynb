{
 "cells": [
  {
   "cell_type": "code",
   "execution_count": 1,
   "metadata": {},
   "outputs": [],
   "source": [
    "import findspark\n",
    "findspark.init()\n",
    "\n",
    "from pyspark.sql import SparkSession\n",
    "from pyspark.conf import SparkConf\n",
    "SparkSession.builder.config(conf=SparkConf())\n",
    "\n",
    "from pyspark.ml.evaluation import RegressionEvaluator\n",
    "from pyspark.ml.recommendation import ALS\n",
    "from pyspark.ml.tuning import TrainValidationSplit, ParamGridBuilder\n",
    "\n",
    "import pandas as pd\n",
    "import logging\n",
    "import json\n",
    "\n",
    "def create_spark_configuration():\n",
    "    spark_config = None\n",
    "    try:\n",
    "        spark_config = (SparkSession.builder\n",
    "            .appName(\"ElasticsearchSparkIntegration\")\n",
    "            # .config(\"spark.jars.packages\", \"org.elasticsearch:elasticsearch-spark-20_2.12:7.17.14,\"\n",
    "            #         \"org.apache.spark:spark-sql-kafka-0-10_2.12:3.2.4\")\n",
    "            .getOrCreate())\n",
    "        \n",
    "        logging.info(\"Spark connection created successfully!\")\n",
    "    except Exception as e:\n",
    "        logging.error(f\"Couldn't create the spark session due to exception {e}\")\n",
    "\n",
    "    return spark_config\n",
    "\n",
    "spark = create_spark_configuration()"
   ]
  },
  {
   "cell_type": "code",
   "execution_count": 2,
   "metadata": {},
   "outputs": [
    {
     "name": "stdout",
     "output_type": "stream",
     "text": [
      "+-------+------------------+------------------+------------------+-----------------+\n",
      "|summary|            userId|           movieId|            rating|        timestamp|\n",
      "+-------+------------------+------------------+------------------+-----------------+\n",
      "|  count|            100000|            100000|            100000|           100000|\n",
      "|   mean|         462.48475|         425.53013|           3.52986|8.8352885148862E8|\n",
      "| stddev|266.61442012750905|330.79835632558473|1.1256735991443214|5343856.189502848|\n",
      "|    min|                 1|                 1|                 1|        874724710|\n",
      "|    max|               943|              1682|                 5|        893286638|\n",
      "+-------+------------------+------------------+------------------+-----------------+\n",
      "\n"
     ]
    }
   ],
   "source": [
    "df = spark.read.csv('data/csv/movie_ratings.csv',inferSchema=True,header=True)\n",
    "df.describe().show()\n",
    "\n",
    "(train,test) = df.select('userId','movieId','rating').randomSplit([0.7,0.3],seed=42)"
   ]
  },
  {
   "cell_type": "code",
   "execution_count": 3,
   "metadata": {},
   "outputs": [],
   "source": [
    "als = ALS(maxIter=5,regParam=0.01,userCol=\"userId\",itemCol=\"movieId\",ratingCol=\"rating\",coldStartStrategy=\"drop\",nonnegative=True)"
   ]
  },
  {
   "cell_type": "code",
   "execution_count": 4,
   "metadata": {},
   "outputs": [],
   "source": [
    "model = als.fit(train)"
   ]
  },
  {
   "cell_type": "code",
   "execution_count": 5,
   "metadata": {},
   "outputs": [],
   "source": [
    "prediction = model.transform(test)"
   ]
  },
  {
   "cell_type": "code",
   "execution_count": 6,
   "metadata": {},
   "outputs": [
    {
     "name": "stdout",
     "output_type": "stream",
     "text": [
      "+------+-------+------+----------+\n",
      "|userId|movieId|rating|prediction|\n",
      "+------+-------+------+----------+\n",
      "|   897|    496|     5|  4.539078|\n",
      "|   251|    148|     2| 2.7995195|\n",
      "|   580|    148|     4|  2.412327|\n",
      "|   580|    471|     3| 3.6193416|\n",
      "|    65|    471|     4| 3.7422976|\n",
      "|   883|   1591|     3| 3.5973558|\n",
      "|   588|    463|     4| 4.0468345|\n",
      "|   588|    496|     3| 3.2339876|\n",
      "|   472|    496|     4|  4.184733|\n",
      "|   321|    496|     4| 3.7210383|\n",
      "|   593|    471|     3| 3.4918327|\n",
      "|   642|    148|     5|  3.255121|\n",
      "|   731|    496|     5|  4.236382|\n",
      "|   332|    148|     5| 4.7987585|\n",
      "|   332|    471|     4| 4.6127596|\n",
      "|   271|    496|     5| 4.2733626|\n",
      "|   844|    471|     3| 3.7330875|\n",
      "|   806|    496|     5|   4.11687|\n",
      "|   103|    471|     4| 3.1587062|\n",
      "|   236|    496|     3|  4.049107|\n",
      "+------+-------+------+----------+\n",
      "only showing top 20 rows\n",
      "\n"
     ]
    }
   ],
   "source": [
    "prediction.show()"
   ]
  },
  {
   "cell_type": "code",
   "execution_count": 7,
   "metadata": {},
   "outputs": [],
   "source": [
    "evaluator = RegressionEvaluator(metricName=\"rmse\", labelCol=\"rating\", predictionCol=\"prediction\")"
   ]
  },
  {
   "cell_type": "code",
   "execution_count": 8,
   "metadata": {},
   "outputs": [
    {
     "name": "stdout",
     "output_type": "stream",
     "text": [
      "1.0375587077925283\n"
     ]
    }
   ],
   "source": [
    "rmse = evaluator.evaluate(prediction)\n",
    "print(rmse)"
   ]
  },
  {
   "cell_type": "code",
   "execution_count": 9,
   "metadata": {},
   "outputs": [],
   "source": [
    "user_1 = test.filter(test['userId'] > 940 ).select(['movieId','userId'])"
   ]
  },
  {
   "cell_type": "code",
   "execution_count": 10,
   "metadata": {},
   "outputs": [
    {
     "name": "stdout",
     "output_type": "stream",
     "text": [
      "+-------+------+\n",
      "|movieId|userId|\n",
      "+-------+------+\n",
      "|      7|   941|\n",
      "|    147|   941|\n",
      "|    181|   941|\n",
      "|    257|   941|\n",
      "|    258|   941|\n",
      "|    273|   941|\n",
      "|     95|   942|\n",
      "|    117|   942|\n",
      "|    210|   942|\n",
      "|    234|   942|\n",
      "|    272|   942|\n",
      "|    300|   942|\n",
      "|    304|   942|\n",
      "|    328|   942|\n",
      "|    347|   942|\n",
      "|    357|   942|\n",
      "|    498|   942|\n",
      "|    511|   942|\n",
      "|    539|   942|\n",
      "|    607|   942|\n",
      "+-------+------+\n",
      "only showing top 20 rows\n",
      "\n"
     ]
    }
   ],
   "source": [
    "user_1.show()"
   ]
  },
  {
   "cell_type": "code",
   "execution_count": 11,
   "metadata": {},
   "outputs": [],
   "source": [
    "rec = model.transform(user_1)"
   ]
  },
  {
   "cell_type": "code",
   "execution_count": 12,
   "metadata": {},
   "outputs": [
    {
     "name": "stdout",
     "output_type": "stream",
     "text": [
      "+-------+------+----------+\n",
      "|movieId|userId|prediction|\n",
      "+-------+------+----------+\n",
      "|    219|   943|  5.748473|\n",
      "|    498|   942|  5.083549|\n",
      "|    511|   942|  4.928707|\n",
      "|    945|   942|  4.912862|\n",
      "|    763|   943| 4.7392116|\n",
      "|   1044|   943| 4.6208005|\n",
      "|    210|   942| 4.6042194|\n",
      "|    272|   942| 4.6037908|\n",
      "|    117|   942|  4.567074|\n",
      "|    357|   942| 4.4385138|\n",
      "|    705|   942|  4.414038|\n",
      "|    765|   943| 4.4095225|\n",
      "|     95|   942|    4.3789|\n",
      "|    184|   943|  4.359953|\n",
      "|      7|   941|  4.325896|\n",
      "|    216|   943|  4.318621|\n",
      "|    257|   941| 4.3021526|\n",
      "|      9|   943|  4.292218|\n",
      "|    181|   941|  4.246449|\n",
      "|     56|   943| 4.2433863|\n",
      "+-------+------+----------+\n",
      "only showing top 20 rows\n",
      "\n"
     ]
    }
   ],
   "source": [
    "rec.orderBy('prediction',ascending=False).show()"
   ]
  },
  {
   "cell_type": "code",
   "execution_count": 13,
   "metadata": {},
   "outputs": [],
   "source": [
    "model.save('model/als-rec')"
   ]
  }
 ],
 "metadata": {
  "kernelspec": {
   "display_name": "base",
   "language": "python",
   "name": "python3"
  },
  "language_info": {
   "codemirror_mode": {
    "name": "ipython",
    "version": 3
   },
   "file_extension": ".py",
   "mimetype": "text/x-python",
   "name": "python",
   "nbconvert_exporter": "python",
   "pygments_lexer": "ipython3",
   "version": "3.10.10"
  }
 },
 "nbformat": 4,
 "nbformat_minor": 2
}
