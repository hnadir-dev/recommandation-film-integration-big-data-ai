{
 "cells": [
  {
   "cell_type": "code",
   "execution_count": 36,
   "metadata": {},
   "outputs": [],
   "source": [
    "import findspark\n",
    "findspark.init()\n",
    "\n",
    "from pyspark.sql import SparkSession\n",
    "from pyspark.conf import SparkConf\n",
    "SparkSession.builder.config(conf=SparkConf())\n",
    "\n",
    "from pyspark.ml.evaluation import RegressionEvaluator\n",
    "from pyspark.ml.recommendation import ALS\n",
    "from pyspark.ml.tuning import TrainValidationSplit, ParamGridBuilder\n",
    "\n",
    "import pandas as pd\n",
    "import logging\n",
    "import json\n",
    "\n",
    "def create_spark_configuration():\n",
    "    spark_config = None\n",
    "    try:\n",
    "        spark_config = (SparkSession.builder\n",
    "            .appName(\"ElasticsearchSparkIntegration\")\n",
    "            # .config(\"spark.jars.packages\", \"org.elasticsearch:elasticsearch-spark-20_2.12:7.17.14,\"\n",
    "            #         \"org.apache.spark:spark-sql-kafka-0-10_2.12:3.2.4\")\n",
    "            .getOrCreate())\n",
    "        \n",
    "        logging.info(\"Spark connection created successfully!\")\n",
    "    except Exception as e:\n",
    "        logging.error(f\"Couldn't create the spark session due to exception {e}\")\n",
    "\n",
    "    return spark_config\n",
    "\n",
    "spark = create_spark_configuration()"
   ]
  },
  {
   "cell_type": "code",
   "execution_count": 60,
   "metadata": {},
   "outputs": [
    {
     "name": "stdout",
     "output_type": "stream",
     "text": [
      "+-------+------------------+------------------+------------------+-----------------+\n",
      "|summary|            userId|           movieId|            rating|        timestamp|\n",
      "+-------+------------------+------------------+------------------+-----------------+\n",
      "|  count|            100000|            100000|            100000|           100000|\n",
      "|   mean|         462.48475|         425.53013|           3.52986|8.8352885148862E8|\n",
      "| stddev|266.61442012750905|330.79835632558473|1.1256735991443214|5343856.189502848|\n",
      "|    min|                 1|                 1|                 1|        874724710|\n",
      "|    max|               943|              1682|                 5|        893286638|\n",
      "+-------+------------------+------------------+------------------+-----------------+\n",
      "\n"
     ]
    }
   ],
   "source": [
    "df = spark.read.csv('data/csv/movie_ratings.csv',inferSchema=True,header=True)\n",
    "df.describe().show()\n",
    "\n",
    "(train,test) = df.select('userId','movieId','rating').randomSplit([0.7,0.3],seed=42)"
   ]
  },
  {
   "cell_type": "code",
   "execution_count": 72,
   "metadata": {},
   "outputs": [],
   "source": [
    "als = ALS(maxIter=5,regParam=0.01,userCol=\"userId\",itemCol=\"movieId\",ratingCol=\"rating\",coldStartStrategy=\"drop\",nonnegative=True)"
   ]
  },
  {
   "cell_type": "code",
   "execution_count": 73,
   "metadata": {},
   "outputs": [],
   "source": [
    "model = als.fit(train)"
   ]
  },
  {
   "cell_type": "code",
   "execution_count": 104,
   "metadata": {},
   "outputs": [],
   "source": [
    "prediction = model.transform(test)"
   ]
  },
  {
   "cell_type": "code",
   "execution_count": 105,
   "metadata": {},
   "outputs": [
    {
     "name": "stdout",
     "output_type": "stream",
     "text": [
      "+------+-------+------+----------+\n",
      "|userId|movieId|rating|prediction|\n",
      "+------+-------+------+----------+\n",
      "|   897|    496|     5|  4.455332|\n",
      "|   251|    148|     2| 2.9859333|\n",
      "|   580|    148|     4| 3.7465968|\n",
      "|   580|    471|     3|   3.25167|\n",
      "|    65|    471|     4| 3.4136634|\n",
      "|   883|   1591|     3| 3.7099378|\n",
      "|   588|    463|     4| 4.3964195|\n",
      "|   588|    496|     3| 3.9017167|\n",
      "|   472|    496|     4|  4.330444|\n",
      "|   321|    496|     4|  4.161474|\n",
      "|   593|    471|     3| 3.6864114|\n",
      "|   642|    148|     5| 3.7612953|\n",
      "|   731|    496|     5| 3.3621073|\n",
      "|   332|    148|     5| 4.1136007|\n",
      "|   332|    471|     4| 4.0084143|\n",
      "|   271|    496|     5| 4.3179636|\n",
      "|   844|    471|     3|  3.427908|\n",
      "|   806|    496|     5| 3.8139317|\n",
      "|   103|    471|     4| 3.5926201|\n",
      "|   236|    496|     3| 3.9977946|\n",
      "+------+-------+------+----------+\n",
      "only showing top 20 rows\n",
      "\n"
     ]
    }
   ],
   "source": [
    "prediction.show()"
   ]
  },
  {
   "cell_type": "code",
   "execution_count": 106,
   "metadata": {},
   "outputs": [],
   "source": [
    "evaluator = RegressionEvaluator(metricName=\"rmse\", labelCol=\"rating\", predictionCol=\"prediction\")"
   ]
  },
  {
   "cell_type": "code",
   "execution_count": 107,
   "metadata": {},
   "outputs": [
    {
     "name": "stdout",
     "output_type": "stream",
     "text": [
      "1.0242864089964292\n"
     ]
    }
   ],
   "source": [
    "rmse = evaluator.evaluate(prediction)\n",
    "print(rmse)"
   ]
  },
  {
   "cell_type": "code",
   "execution_count": 109,
   "metadata": {},
   "outputs": [],
   "source": [
    "user_1 = test.filter(test['userId'] > 940 ).select(['movieId','userId'])"
   ]
  },
  {
   "cell_type": "code",
   "execution_count": 110,
   "metadata": {},
   "outputs": [
    {
     "name": "stdout",
     "output_type": "stream",
     "text": [
      "+-------+------+\n",
      "|movieId|userId|\n",
      "+-------+------+\n",
      "|      7|   941|\n",
      "|    147|   941|\n",
      "|    181|   941|\n",
      "|    257|   941|\n",
      "|    258|   941|\n",
      "|    273|   941|\n",
      "|     95|   942|\n",
      "|    117|   942|\n",
      "|    210|   942|\n",
      "|    234|   942|\n",
      "|    272|   942|\n",
      "|    300|   942|\n",
      "|    304|   942|\n",
      "|    328|   942|\n",
      "|    347|   942|\n",
      "|    357|   942|\n",
      "|    498|   942|\n",
      "|    511|   942|\n",
      "|    539|   942|\n",
      "|    607|   942|\n",
      "+-------+------+\n",
      "only showing top 20 rows\n",
      "\n"
     ]
    }
   ],
   "source": [
    "user_1.show()"
   ]
  },
  {
   "cell_type": "code",
   "execution_count": 111,
   "metadata": {},
   "outputs": [],
   "source": [
    "rec = model.transform(user_1)"
   ]
  },
  {
   "cell_type": "code",
   "execution_count": 112,
   "metadata": {},
   "outputs": [
    {
     "name": "stdout",
     "output_type": "stream",
     "text": [
      "+-------+------+----------+\n",
      "|movieId|userId|prediction|\n",
      "+-------+------+----------+\n",
      "|    219|   943|  6.758924|\n",
      "|    763|   943|  5.272481|\n",
      "|     68|   943|  5.150526|\n",
      "|    541|   943|   5.10025|\n",
      "|    188|   943| 5.0391307|\n",
      "|    498|   942| 4.9882317|\n",
      "|    210|   942| 4.9415627|\n",
      "|     11|   943|  4.926779|\n",
      "|     56|   943| 4.8678093|\n",
      "|    272|   942| 4.8562126|\n",
      "|    373|   943|  4.786627|\n",
      "|    201|   943|  4.746359|\n",
      "|     12|   943| 4.7364955|\n",
      "|    357|   942| 4.6934023|\n",
      "|      7|   941|  4.654271|\n",
      "|    705|   942| 4.6477613|\n",
      "|    117|   942| 4.6376038|\n",
      "|    945|   942|  4.546354|\n",
      "|     95|   942| 4.5394583|\n",
      "|    187|   943|  4.535033|\n",
      "+-------+------+----------+\n",
      "only showing top 20 rows\n",
      "\n"
     ]
    }
   ],
   "source": [
    "rec.orderBy('prediction',ascending=False).show()"
   ]
  },
  {
   "cell_type": "code",
   "execution_count": null,
   "metadata": {},
   "outputs": [],
   "source": []
  }
 ],
 "metadata": {
  "kernelspec": {
   "display_name": "base",
   "language": "python",
   "name": "python3"
  },
  "language_info": {
   "codemirror_mode": {
    "name": "ipython",
    "version": 3
   },
   "file_extension": ".py",
   "mimetype": "text/x-python",
   "name": "python",
   "nbconvert_exporter": "python",
   "pygments_lexer": "ipython3",
   "version": "3.10.10"
  }
 },
 "nbformat": 4,
 "nbformat_minor": 2
}
